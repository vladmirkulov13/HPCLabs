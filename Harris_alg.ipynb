{
  "nbformat": 4,
  "nbformat_minor": 0,
  "metadata": {
    "colab": {
      "name": "Harris_alg.ipynb",
      "provenance": [],
      "authorship_tag": "ABX9TyOHBwFEeMn4kpP/UMOSLDBh",
      "include_colab_link": true
    },
    "kernelspec": {
      "name": "python3",
      "display_name": "Python 3"
    },
    "language_info": {
      "name": "python"
    },
    "accelerator": "GPU"
  },
  "cells": [
    {
      "cell_type": "markdown",
      "metadata": {
        "id": "view-in-github",
        "colab_type": "text"
      },
      "source": [
        "<a href=\"https://colab.research.google.com/github/vladmirkulov13/HPCLabs/blob/main/Harris_alg.ipynb\" target=\"_parent\"><img src=\"https://colab.research.google.com/assets/colab-badge.svg\" alt=\"Open In Colab\"/></a>"
      ]
    },
    {
      "cell_type": "code",
      "metadata": {
        "colab": {
          "base_uri": "https://localhost:8080/"
        },
        "id": "KFy2wqIxhaQ5",
        "outputId": "08cac3d0-6887-4f4b-f37f-e55adf5737dd"
      },
      "source": [
        "from google.colab import drive\n",
        "drive.mount('/drive')"
      ],
      "execution_count": 2,
      "outputs": [
        {
          "output_type": "stream",
          "name": "stdout",
          "text": [
            "Mounted at /drive\n"
          ]
        }
      ]
    },
    {
      "cell_type": "code",
      "metadata": {
        "colab": {
          "base_uri": "https://localhost:8080/"
        },
        "id": "0yuXcKqmh5FP",
        "outputId": "04bb54e8-ae04-4a06-ccc7-a8d3d0e94c4e"
      },
      "source": [
        "!pip install pycuda"
      ],
      "execution_count": 3,
      "outputs": [
        {
          "output_type": "stream",
          "name": "stdout",
          "text": [
            "Collecting pycuda\n",
            "  Downloading pycuda-2021.1.tar.gz (1.7 MB)\n",
            "\u001b[?25l\r\u001b[K     |▏                               | 10 kB 20.7 MB/s eta 0:00:01\r\u001b[K     |▍                               | 20 kB 26.3 MB/s eta 0:00:01\r\u001b[K     |▋                               | 30 kB 13.1 MB/s eta 0:00:01\r\u001b[K     |▉                               | 40 kB 9.8 MB/s eta 0:00:01\r\u001b[K     |█                               | 51 kB 5.2 MB/s eta 0:00:01\r\u001b[K     |█▏                              | 61 kB 5.7 MB/s eta 0:00:01\r\u001b[K     |█▍                              | 71 kB 6.1 MB/s eta 0:00:01\r\u001b[K     |█▋                              | 81 kB 6.8 MB/s eta 0:00:01\r\u001b[K     |█▊                              | 92 kB 6.5 MB/s eta 0:00:01\r\u001b[K     |██                              | 102 kB 5.4 MB/s eta 0:00:01\r\u001b[K     |██▏                             | 112 kB 5.4 MB/s eta 0:00:01\r\u001b[K     |██▍                             | 122 kB 5.4 MB/s eta 0:00:01\r\u001b[K     |██▌                             | 133 kB 5.4 MB/s eta 0:00:01\r\u001b[K     |██▊                             | 143 kB 5.4 MB/s eta 0:00:01\r\u001b[K     |███                             | 153 kB 5.4 MB/s eta 0:00:01\r\u001b[K     |███▏                            | 163 kB 5.4 MB/s eta 0:00:01\r\u001b[K     |███▎                            | 174 kB 5.4 MB/s eta 0:00:01\r\u001b[K     |███▌                            | 184 kB 5.4 MB/s eta 0:00:01\r\u001b[K     |███▊                            | 194 kB 5.4 MB/s eta 0:00:01\r\u001b[K     |████                            | 204 kB 5.4 MB/s eta 0:00:01\r\u001b[K     |████                            | 215 kB 5.4 MB/s eta 0:00:01\r\u001b[K     |████▎                           | 225 kB 5.4 MB/s eta 0:00:01\r\u001b[K     |████▌                           | 235 kB 5.4 MB/s eta 0:00:01\r\u001b[K     |████▊                           | 245 kB 5.4 MB/s eta 0:00:01\r\u001b[K     |████▉                           | 256 kB 5.4 MB/s eta 0:00:01\r\u001b[K     |█████                           | 266 kB 5.4 MB/s eta 0:00:01\r\u001b[K     |█████▎                          | 276 kB 5.4 MB/s eta 0:00:01\r\u001b[K     |█████▌                          | 286 kB 5.4 MB/s eta 0:00:01\r\u001b[K     |█████▋                          | 296 kB 5.4 MB/s eta 0:00:01\r\u001b[K     |█████▉                          | 307 kB 5.4 MB/s eta 0:00:01\r\u001b[K     |██████                          | 317 kB 5.4 MB/s eta 0:00:01\r\u001b[K     |██████▎                         | 327 kB 5.4 MB/s eta 0:00:01\r\u001b[K     |██████▍                         | 337 kB 5.4 MB/s eta 0:00:01\r\u001b[K     |██████▋                         | 348 kB 5.4 MB/s eta 0:00:01\r\u001b[K     |██████▉                         | 358 kB 5.4 MB/s eta 0:00:01\r\u001b[K     |███████                         | 368 kB 5.4 MB/s eta 0:00:01\r\u001b[K     |███████▏                        | 378 kB 5.4 MB/s eta 0:00:01\r\u001b[K     |███████▍                        | 389 kB 5.4 MB/s eta 0:00:01\r\u001b[K     |███████▋                        | 399 kB 5.4 MB/s eta 0:00:01\r\u001b[K     |███████▉                        | 409 kB 5.4 MB/s eta 0:00:01\r\u001b[K     |████████                        | 419 kB 5.4 MB/s eta 0:00:01\r\u001b[K     |████████▏                       | 430 kB 5.4 MB/s eta 0:00:01\r\u001b[K     |████████▍                       | 440 kB 5.4 MB/s eta 0:00:01\r\u001b[K     |████████▋                       | 450 kB 5.4 MB/s eta 0:00:01\r\u001b[K     |████████▊                       | 460 kB 5.4 MB/s eta 0:00:01\r\u001b[K     |█████████                       | 471 kB 5.4 MB/s eta 0:00:01\r\u001b[K     |█████████▏                      | 481 kB 5.4 MB/s eta 0:00:01\r\u001b[K     |█████████▍                      | 491 kB 5.4 MB/s eta 0:00:01\r\u001b[K     |█████████▌                      | 501 kB 5.4 MB/s eta 0:00:01\r\u001b[K     |█████████▊                      | 512 kB 5.4 MB/s eta 0:00:01\r\u001b[K     |██████████                      | 522 kB 5.4 MB/s eta 0:00:01\r\u001b[K     |██████████▏                     | 532 kB 5.4 MB/s eta 0:00:01\r\u001b[K     |██████████▎                     | 542 kB 5.4 MB/s eta 0:00:01\r\u001b[K     |██████████▌                     | 552 kB 5.4 MB/s eta 0:00:01\r\u001b[K     |██████████▊                     | 563 kB 5.4 MB/s eta 0:00:01\r\u001b[K     |███████████                     | 573 kB 5.4 MB/s eta 0:00:01\r\u001b[K     |███████████                     | 583 kB 5.4 MB/s eta 0:00:01\r\u001b[K     |███████████▎                    | 593 kB 5.4 MB/s eta 0:00:01\r\u001b[K     |███████████▌                    | 604 kB 5.4 MB/s eta 0:00:01\r\u001b[K     |███████████▊                    | 614 kB 5.4 MB/s eta 0:00:01\r\u001b[K     |███████████▉                    | 624 kB 5.4 MB/s eta 0:00:01\r\u001b[K     |████████████                    | 634 kB 5.4 MB/s eta 0:00:01\r\u001b[K     |████████████▎                   | 645 kB 5.4 MB/s eta 0:00:01\r\u001b[K     |████████████▌                   | 655 kB 5.4 MB/s eta 0:00:01\r\u001b[K     |████████████▋                   | 665 kB 5.4 MB/s eta 0:00:01\r\u001b[K     |████████████▉                   | 675 kB 5.4 MB/s eta 0:00:01\r\u001b[K     |█████████████                   | 686 kB 5.4 MB/s eta 0:00:01\r\u001b[K     |█████████████▎                  | 696 kB 5.4 MB/s eta 0:00:01\r\u001b[K     |█████████████▍                  | 706 kB 5.4 MB/s eta 0:00:01\r\u001b[K     |█████████████▋                  | 716 kB 5.4 MB/s eta 0:00:01\r\u001b[K     |█████████████▉                  | 727 kB 5.4 MB/s eta 0:00:01\r\u001b[K     |██████████████                  | 737 kB 5.4 MB/s eta 0:00:01\r\u001b[K     |██████████████▏                 | 747 kB 5.4 MB/s eta 0:00:01\r\u001b[K     |██████████████▍                 | 757 kB 5.4 MB/s eta 0:00:01\r\u001b[K     |██████████████▋                 | 768 kB 5.4 MB/s eta 0:00:01\r\u001b[K     |██████████████▉                 | 778 kB 5.4 MB/s eta 0:00:01\r\u001b[K     |███████████████                 | 788 kB 5.4 MB/s eta 0:00:01\r\u001b[K     |███████████████▏                | 798 kB 5.4 MB/s eta 0:00:01\r\u001b[K     |███████████████▍                | 808 kB 5.4 MB/s eta 0:00:01\r\u001b[K     |███████████████▋                | 819 kB 5.4 MB/s eta 0:00:01\r\u001b[K     |███████████████▊                | 829 kB 5.4 MB/s eta 0:00:01\r\u001b[K     |████████████████                | 839 kB 5.4 MB/s eta 0:00:01\r\u001b[K     |████████████████▏               | 849 kB 5.4 MB/s eta 0:00:01\r\u001b[K     |████████████████▍               | 860 kB 5.4 MB/s eta 0:00:01\r\u001b[K     |████████████████▌               | 870 kB 5.4 MB/s eta 0:00:01\r\u001b[K     |████████████████▊               | 880 kB 5.4 MB/s eta 0:00:01\r\u001b[K     |█████████████████               | 890 kB 5.4 MB/s eta 0:00:01\r\u001b[K     |█████████████████▏              | 901 kB 5.4 MB/s eta 0:00:01\r\u001b[K     |█████████████████▍              | 911 kB 5.4 MB/s eta 0:00:01\r\u001b[K     |█████████████████▌              | 921 kB 5.4 MB/s eta 0:00:01\r\u001b[K     |█████████████████▊              | 931 kB 5.4 MB/s eta 0:00:01\r\u001b[K     |██████████████████              | 942 kB 5.4 MB/s eta 0:00:01\r\u001b[K     |██████████████████▏             | 952 kB 5.4 MB/s eta 0:00:01\r\u001b[K     |██████████████████▎             | 962 kB 5.4 MB/s eta 0:00:01\r\u001b[K     |██████████████████▌             | 972 kB 5.4 MB/s eta 0:00:01\r\u001b[K     |██████████████████▊             | 983 kB 5.4 MB/s eta 0:00:01\r\u001b[K     |███████████████████             | 993 kB 5.4 MB/s eta 0:00:01\r\u001b[K     |███████████████████             | 1.0 MB 5.4 MB/s eta 0:00:01\r\u001b[K     |███████████████████▎            | 1.0 MB 5.4 MB/s eta 0:00:01\r\u001b[K     |███████████████████▌            | 1.0 MB 5.4 MB/s eta 0:00:01\r\u001b[K     |███████████████████▊            | 1.0 MB 5.4 MB/s eta 0:00:01\r\u001b[K     |███████████████████▉            | 1.0 MB 5.4 MB/s eta 0:00:01\r\u001b[K     |████████████████████            | 1.1 MB 5.4 MB/s eta 0:00:01\r\u001b[K     |████████████████████▎           | 1.1 MB 5.4 MB/s eta 0:00:01\r\u001b[K     |████████████████████▌           | 1.1 MB 5.4 MB/s eta 0:00:01\r\u001b[K     |████████████████████▋           | 1.1 MB 5.4 MB/s eta 0:00:01\r\u001b[K     |████████████████████▉           | 1.1 MB 5.4 MB/s eta 0:00:01\r\u001b[K     |█████████████████████           | 1.1 MB 5.4 MB/s eta 0:00:01\r\u001b[K     |█████████████████████▎          | 1.1 MB 5.4 MB/s eta 0:00:01\r\u001b[K     |█████████████████████▍          | 1.1 MB 5.4 MB/s eta 0:00:01\r\u001b[K     |█████████████████████▋          | 1.1 MB 5.4 MB/s eta 0:00:01\r\u001b[K     |█████████████████████▉          | 1.1 MB 5.4 MB/s eta 0:00:01\r\u001b[K     |██████████████████████          | 1.2 MB 5.4 MB/s eta 0:00:01\r\u001b[K     |██████████████████████▏         | 1.2 MB 5.4 MB/s eta 0:00:01\r\u001b[K     |██████████████████████▍         | 1.2 MB 5.4 MB/s eta 0:00:01\r\u001b[K     |██████████████████████▋         | 1.2 MB 5.4 MB/s eta 0:00:01\r\u001b[K     |██████████████████████▉         | 1.2 MB 5.4 MB/s eta 0:00:01\r\u001b[K     |███████████████████████         | 1.2 MB 5.4 MB/s eta 0:00:01\r\u001b[K     |███████████████████████▏        | 1.2 MB 5.4 MB/s eta 0:00:01\r\u001b[K     |███████████████████████▍        | 1.2 MB 5.4 MB/s eta 0:00:01\r\u001b[K     |███████████████████████▋        | 1.2 MB 5.4 MB/s eta 0:00:01\r\u001b[K     |███████████████████████▊        | 1.2 MB 5.4 MB/s eta 0:00:01\r\u001b[K     |████████████████████████        | 1.3 MB 5.4 MB/s eta 0:00:01\r\u001b[K     |████████████████████████▏       | 1.3 MB 5.4 MB/s eta 0:00:01\r\u001b[K     |████████████████████████▍       | 1.3 MB 5.4 MB/s eta 0:00:01\r\u001b[K     |████████████████████████▌       | 1.3 MB 5.4 MB/s eta 0:00:01\r\u001b[K     |████████████████████████▊       | 1.3 MB 5.4 MB/s eta 0:00:01\r\u001b[K     |█████████████████████████       | 1.3 MB 5.4 MB/s eta 0:00:01\r\u001b[K     |█████████████████████████▏      | 1.3 MB 5.4 MB/s eta 0:00:01\r\u001b[K     |█████████████████████████▎      | 1.3 MB 5.4 MB/s eta 0:00:01\r\u001b[K     |█████████████████████████▌      | 1.3 MB 5.4 MB/s eta 0:00:01\r\u001b[K     |█████████████████████████▊      | 1.4 MB 5.4 MB/s eta 0:00:01\r\u001b[K     |██████████████████████████      | 1.4 MB 5.4 MB/s eta 0:00:01\r\u001b[K     |██████████████████████████      | 1.4 MB 5.4 MB/s eta 0:00:01\r\u001b[K     |██████████████████████████▎     | 1.4 MB 5.4 MB/s eta 0:00:01\r\u001b[K     |██████████████████████████▌     | 1.4 MB 5.4 MB/s eta 0:00:01\r\u001b[K     |██████████████████████████▊     | 1.4 MB 5.4 MB/s eta 0:00:01\r\u001b[K     |██████████████████████████▉     | 1.4 MB 5.4 MB/s eta 0:00:01\r\u001b[K     |███████████████████████████     | 1.4 MB 5.4 MB/s eta 0:00:01\r\u001b[K     |███████████████████████████▎    | 1.4 MB 5.4 MB/s eta 0:00:01\r\u001b[K     |███████████████████████████▌    | 1.4 MB 5.4 MB/s eta 0:00:01\r\u001b[K     |███████████████████████████▋    | 1.5 MB 5.4 MB/s eta 0:00:01\r\u001b[K     |███████████████████████████▉    | 1.5 MB 5.4 MB/s eta 0:00:01\r\u001b[K     |████████████████████████████    | 1.5 MB 5.4 MB/s eta 0:00:01\r\u001b[K     |████████████████████████████▎   | 1.5 MB 5.4 MB/s eta 0:00:01\r\u001b[K     |████████████████████████████▍   | 1.5 MB 5.4 MB/s eta 0:00:01\r\u001b[K     |████████████████████████████▋   | 1.5 MB 5.4 MB/s eta 0:00:01\r\u001b[K     |████████████████████████████▉   | 1.5 MB 5.4 MB/s eta 0:00:01\r\u001b[K     |█████████████████████████████   | 1.5 MB 5.4 MB/s eta 0:00:01\r\u001b[K     |█████████████████████████████▏  | 1.5 MB 5.4 MB/s eta 0:00:01\r\u001b[K     |█████████████████████████████▍  | 1.5 MB 5.4 MB/s eta 0:00:01\r\u001b[K     |█████████████████████████████▋  | 1.6 MB 5.4 MB/s eta 0:00:01\r\u001b[K     |█████████████████████████████▉  | 1.6 MB 5.4 MB/s eta 0:00:01\r\u001b[K     |██████████████████████████████  | 1.6 MB 5.4 MB/s eta 0:00:01\r\u001b[K     |██████████████████████████████▏ | 1.6 MB 5.4 MB/s eta 0:00:01\r\u001b[K     |██████████████████████████████▍ | 1.6 MB 5.4 MB/s eta 0:00:01\r\u001b[K     |██████████████████████████████▋ | 1.6 MB 5.4 MB/s eta 0:00:01\r\u001b[K     |██████████████████████████████▊ | 1.6 MB 5.4 MB/s eta 0:00:01\r\u001b[K     |███████████████████████████████ | 1.6 MB 5.4 MB/s eta 0:00:01\r\u001b[K     |███████████████████████████████▏| 1.6 MB 5.4 MB/s eta 0:00:01\r\u001b[K     |███████████████████████████████▍| 1.6 MB 5.4 MB/s eta 0:00:01\r\u001b[K     |███████████████████████████████▌| 1.7 MB 5.4 MB/s eta 0:00:01\r\u001b[K     |███████████████████████████████▊| 1.7 MB 5.4 MB/s eta 0:00:01\r\u001b[K     |████████████████████████████████| 1.7 MB 5.4 MB/s eta 0:00:01\r\u001b[K     |████████████████████████████████| 1.7 MB 5.4 MB/s \n",
            "\u001b[?25h  Installing build dependencies ... \u001b[?25l\u001b[?25hdone\n",
            "  Getting requirements to build wheel ... \u001b[?25l\u001b[?25hdone\n",
            "    Preparing wheel metadata ... \u001b[?25l\u001b[?25hdone\n",
            "Requirement already satisfied: appdirs>=1.4.0 in /usr/local/lib/python3.7/dist-packages (from pycuda) (1.4.4)\n",
            "Collecting pytools>=2011.2\n",
            "  Downloading pytools-2021.2.9.tar.gz (66 kB)\n",
            "\u001b[K     |████████████████████████████████| 66 kB 4.2 MB/s \n",
            "\u001b[?25hCollecting mako\n",
            "  Downloading Mako-1.1.6-py2.py3-none-any.whl (75 kB)\n",
            "\u001b[K     |████████████████████████████████| 75 kB 4.3 MB/s \n",
            "\u001b[?25hRequirement already satisfied: numpy>=1.6.0 in /usr/local/lib/python3.7/dist-packages (from pytools>=2011.2->pycuda) (1.19.5)\n",
            "Requirement already satisfied: MarkupSafe>=0.9.2 in /usr/local/lib/python3.7/dist-packages (from mako->pycuda) (2.0.1)\n",
            "Building wheels for collected packages: pycuda, pytools\n",
            "  Building wheel for pycuda (PEP 517) ... \u001b[?25l\u001b[?25hdone\n",
            "  Created wheel for pycuda: filename=pycuda-2021.1-cp37-cp37m-linux_x86_64.whl size=627871 sha256=cea0e0a4e8dac43fe8d1f702635e131f80674fa17f9ffb25ec61ed378161a326\n",
            "  Stored in directory: /root/.cache/pip/wheels/c4/ef/49/dc6a5feb8d980b37c83d465ecab24949a6aa19458522a9e001\n",
            "  Building wheel for pytools (setup.py) ... \u001b[?25l\u001b[?25hdone\n",
            "  Created wheel for pytools: filename=pytools-2021.2.9-py2.py3-none-any.whl size=62370 sha256=2503e9ec73d8b5571c96c6220a3a3aef67ca328e0ec0b6169f4aad4d9428af3e\n",
            "  Stored in directory: /root/.cache/pip/wheels/41/b9/6e/94bb014f6484b15ec77e7877f3a227609481ffd98db364504d\n",
            "Successfully built pycuda pytools\n",
            "Installing collected packages: pytools, mako, pycuda\n",
            "Successfully installed mako-1.1.6 pycuda-2021.1 pytools-2021.2.9\n"
          ]
        }
      ]
    },
    {
      "cell_type": "code",
      "metadata": {
        "colab": {
          "base_uri": "https://localhost:8080/",
          "height": 35
        },
        "id": "aDJyyERNkjTT",
        "outputId": "46f84589-e648-4e22-c7c2-fb42424fac64"
      },
      "source": [
        "import pycuda.autoinit\n",
        "from pycuda.tools import make_default_context\n",
        "make_default_context().get_device().name()"
      ],
      "execution_count": 4,
      "outputs": [
        {
          "output_type": "execute_result",
          "data": {
            "application/vnd.google.colaboratory.intrinsic+json": {
              "type": "string"
            },
            "text/plain": [
              "'Tesla K80'"
            ]
          },
          "metadata": {},
          "execution_count": 4
        }
      ]
    },
    {
      "cell_type": "code",
      "metadata": {
        "id": "AOpvIrEWknoq"
      },
      "source": [
        "from string import Template\n",
        "import pycuda.driver as drv\n",
        "import pycuda.tools\n",
        "import pycuda.autoinit\n",
        "from pycuda.compiler import SourceModule\n",
        "import numpy as np\n",
        "\n",
        "def harris_gpu(img, k, thresh):\n",
        "    \"\"\"\n",
        "    Finds and returns list of corners\n",
        "        :param img: grayscale image\n",
        "        :param k: Harris corner constant. Usually 0.04 - 0.06\n",
        "        :param thresh: The threshold above which a corner is counted\n",
        "        :return: corner_list: List with corners\n",
        "        :return: average_execution_time: Average execution time in seconds\n",
        "    \"\"\"\n",
        "\n",
        "    height = img.shape[0]\n",
        "    width = img.shape[1]\n",
        "\n",
        "    vector_size = img.shape[0] * img.shape[1]\n",
        "    corner_list = []\n",
        "    offset = 2\n",
        "    # to fit still in a 32-bit integer\n",
        "    thresh = int(thresh/10)\n",
        "\n",
        "    # function template\n",
        "    func_mod_template = Template(\"\"\"\n",
        "    #include<stdio.h>\n",
        "    #define INDEX(a, b) a*${HEIGHT}+b\n",
        "\n",
        "    __global__ void corners(\n",
        "        float *dest,\n",
        "        float *ixx,\n",
        "        float *ixy,\n",
        "        float *iyy,\n",
        "        int offset,\n",
        "        float k,\n",
        "        int threshold) {\n",
        "\n",
        "        unsigned int idx = threadIdx.x + threadIdx.y*blockDim.y +\n",
        "                            (blockIdx.x*(blockDim.x*blockDim.y));\n",
        "\n",
        "        unsigned int a = idx/${HEIGHT};\n",
        "        unsigned int b = idx%${HEIGHT};\n",
        "\n",
        "        float sxx = 0;\n",
        "        float sxy = 0;\n",
        "        float syy = 0;\n",
        "        float det = 0;\n",
        "        float trace = 0;\n",
        "        float r = 0;\n",
        "\n",
        "        if ((a >= offset) & (a <= (${WIDTH}-offset - 1)) &\n",
        "            (b >= offset) & (b <= (${HEIGHT}-offset - 1))) {\n",
        "            for (int bi = b - offset; bi < b + offset + 1; ++bi) {\n",
        "                for (int ai = a - offset; ai < a + offset + 1; ++ai) {\n",
        "                    sxx = sxx + ixx[INDEX(ai, bi)];\n",
        "                    sxy = sxy + ixy[INDEX(ai, bi)];\n",
        "                    syy = syy + iyy[INDEX(ai, bi)];\n",
        "                }\n",
        "            }\n",
        "            det = sxx*syy - sxy*sxy;\n",
        "            trace = sxx + syy;\n",
        "            r = det - k*(trace*trace);\n",
        "            if ((r/10) > threshold)\n",
        "                dest[INDEX(a, b)] = r;\n",
        "        }\n",
        "    }\n",
        "    \"\"\")\n",
        "\n",
        "    func_mod = SourceModule(func_mod_template.substitute(HEIGHT=height,\n",
        "                                                         WIDTH=width))\n",
        "    pycuda_corners = func_mod.get_function(\"corners\")\n",
        "\n",
        "    # Find x and y derivatives\n",
        "    dy, dx = np.gradient(img)\n",
        "    Ixx = dx**2\n",
        "    Ixy = dy*dx\n",
        "    Iyy = dy**2\n",
        "\n",
        "    ixx = Ixx.reshape(vector_size, order='F')\n",
        "    ixy = Ixy.reshape(vector_size, order='F')\n",
        "    iyy = Iyy.reshape(vector_size, order='F')\n",
        "    dest_r = np.zeros_like(ixx)\n",
        "\n",
        "    # start timer\n",
        "    start = timeit.default_timer()\n",
        "\n",
        "    pycuda_corners(drv.Out(dest_r),\n",
        "                drv.In(ixx),\n",
        "                drv.In(ixy),\n",
        "                drv.In(iyy),\n",
        "                np.uint32(offset),\n",
        "                np.float32(k),\n",
        "                np.uint32(thresh),\n",
        "                block=(32, 32, 1),  \n",
        "                grid=(height*width//1024, 1, 1))  \n",
        "\n",
        "    # calculate used time\n",
        "    execution_time = timeit.default_timer() - start\n",
        "\n",
        "    # extract the corners\n",
        "    r = np.reshape(dest_r, (height, width), order='F')\n",
        "    corners = np.where(r > 0)\n",
        "    for i, j in zip(corners[0], corners[1]):\n",
        "        corner_list.append([j, i, r[i, j]])\n",
        "\n",
        "    return corner_list, execution_time"
      ],
      "execution_count": 7,
      "outputs": []
    },
    {
      "cell_type": "code",
      "metadata": {
        "colab": {
          "base_uri": "https://localhost:8080/",
          "height": 505
        },
        "id": "_Z0qUaVWlGSC",
        "outputId": "9b768e94-bfde-4145-88b1-a13543dcefc0"
      },
      "source": [
        "import cv2\n",
        "from google.colab.patches import cv2_imshow\n",
        "\n",
        "# load image\n",
        "image = cv2.imread('/content/chess.jpg', 0).astype(np.float32)\n",
        "print('Source image:')\n",
        "cv2_imshow(image)"
      ],
      "execution_count": 12,
      "outputs": [
        {
          "output_type": "stream",
          "name": "stdout",
          "text": [
            "Source image:\n"
          ]
        },
        {
          "output_type": "display_data",
          "data": {
            "image/png": "[encoded data removed]",
            "text/plain": [
              "<PIL.Image.Image image mode=L size=749x471 at 0x7FD0563CAB10>"
            ]
          },
          "metadata": {}
        }
      ]
    },
    {
      "cell_type": "code",
      "metadata": {
        "colab": {
          "base_uri": "https://localhost:8080/",
          "height": 262
        },
        "id": "nw1pV178mSpx",
        "outputId": "3f60e10e-3dc7-492a-8910-a8adef104d4f"
      },
      "source": [
        "import matplotlib.pyplot as plt\n",
        "import timeit\n",
        "\n",
        "k = 0.05\n",
        "thresh = 3000000000\n",
        "# run the algorithm\n",
        "corners, timed = harris_gpu(image, k, thresh)\n",
        "\n",
        "# plot the image and a red dot at the corners\n",
        "print(\"GPU result\")\n",
        "n_image = np.zeros(image.shape) \n",
        "fig = plt.imshow(image, cmap='gray')\n",
        "fig.axes.get_xaxis().set_visible(False)\n",
        "fig.axes.get_yaxis().set_visible(False)\n",
        "plt.scatter([x[0] for x in corners], [x[1] for x in corners], s=1, c = 'red')\n",
        "plt.savefig('/content/chess_gpu.png')\n",
        "plt.show()"
      ],
      "execution_count": 22,
      "outputs": [
        {
          "output_type": "stream",
          "name": "stdout",
          "text": [
            "GPU result\n"
          ]
        },
        {
          "output_type": "display_data",
          "data": {
            "image/png": "[encoded data removed]",
            "text/plain": [
              "<Figure size 432x288 with 1 Axes>"
            ]
          },
          "metadata": {
            "needs_background": "light"
          }
        }
      ]
    },
    {
      "cell_type": "code",
      "metadata": {
        "colab": {
          "base_uri": "https://localhost:8080/",
          "height": 803
        },
        "id": "B71G88CWngMm",
        "outputId": "ffac3073-2bee-4a1d-ec5a-b5abd81d4350"
      },
      "source": [
        "print(\"GPU result\")\n",
        "n_image = np.zeros(image.shape)\n",
        "fig = plt.imshow(n_image, cmap='gray')\n",
        "fig.axes.get_xaxis().set_visible(False)\n",
        "fig.axes.get_yaxis().set_visible(False)\n",
        "plt.scatter([x[0] for x in corners], [x[1] for x in corners], s=1, c = 'white')\n",
        "plt.show()\n",
        "print('Time for GPU: {}'.format(timed))\n",
        "\n",
        "print(\"cornerHarris - cv2 method\")\n",
        "start = timeit.default_timer()\n",
        "dst = cv2.cornerHarris(image, 2, 3, 0.04)\n",
        "cv2_time = timeit.default_timer() - start\n",
        "cv2_imshow(dst)\n",
        "\n",
        "\n",
        "print('cv2.cornerHarris time: {}'.format(cv2_time))\n",
        "print('ratio (cv2.cornerHarris/ own_gpu): {}'.format(cv2_time/timed))"
      ],
      "execution_count": 33,
      "outputs": [
        {
          "output_type": "stream",
          "name": "stdout",
          "text": [
            "GPU result\n"
          ]
        },
        {
          "output_type": "display_data",
          "data": {
            "image/png": "[encoded data removed]",
            "text/plain": [
              "<Figure size 432x288 with 1 Axes>"
            ]
          },
          "metadata": {
            "needs_background": "light"
          }
        },
        {
          "output_type": "stream",
          "name": "stdout",
          "text": [
            "Time for GPU: 0.004066801000135456\n",
            "cornerHarris - cv2 method\n"
          ]
        },
        {
          "output_type": "display_data",
          "data": {
            "image/png": "[encoded data removed]",
            "text/plain": [
              "<PIL.Image.Image image mode=L size=749x471 at 0x7FD05577B550>"
            ]
          },
          "metadata": {}
        },
        {
          "output_type": "stream",
          "name": "stdout",
          "text": [
            "cv2.cornerHarris time: 0.011672814000121434\n",
            "ratio (cv2.cornerHarris/ own_gpu): 2.8702692853013065\n"
          ]
        }
      ]
    }
  ]
}