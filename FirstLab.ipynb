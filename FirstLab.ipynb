{
  "nbformat": 4,
  "nbformat_minor": 0,
  "metadata": {
    "colab": {
      "name": "Добро пожаловать в Colaboratory!",
      "provenance": [],
      "collapsed_sections": [],
      "include_colab_link": true
    },
    "kernelspec": {
      "display_name": "Python 3",
      "name": "python3"
    },
    "accelerator": "GPU"
  },
  "cells": [
    {
      "cell_type": "markdown",
      "metadata": {
        "id": "view-in-github",
        "colab_type": "text"
      },
      "source": [
        "<a href=\"https://colab.research.google.com/github/vladmirkulov13/HPCLabs/blob/main/FirstLab.ipynb\" target=\"_parent\"><img src=\"https://colab.research.google.com/assets/colab-badge.svg\" alt=\"Open In Colab\"/></a>"
      ]
    },
    {
      "cell_type": "code",
      "metadata": {
        "colab": {
          "base_uri": "https://localhost:8080/"
        },
        "id": "oZWfh0ofS6hx",
        "outputId": "e91e3054-bea1-42c7-c846-fe00b54ab731"
      },
      "source": [
        "!pip install pycuda"
      ],
      "execution_count": 2,
      "outputs": [
        {
          "output_type": "stream",
          "name": "stdout",
          "text": [
            "Collecting pycuda\n",
            "  Downloading pycuda-2021.1.tar.gz (1.7 MB)\n",
            "\u001b[?25l\r\u001b[K     |▏                               | 10 kB 33.9 MB/s eta 0:00:01\r\u001b[K     |▍                               | 20 kB 24.8 MB/s eta 0:00:01\r\u001b[K     |▋                               | 30 kB 20.3 MB/s eta 0:00:01\r\u001b[K     |▉                               | 40 kB 17.8 MB/s eta 0:00:01\r\u001b[K     |█                               | 51 kB 14.7 MB/s eta 0:00:01\r\u001b[K     |█▏                              | 61 kB 13.5 MB/s eta 0:00:01\r\u001b[K     |█▍                              | 71 kB 12.8 MB/s eta 0:00:01\r\u001b[K     |█▋                              | 81 kB 14.1 MB/s eta 0:00:01\r\u001b[K     |█▊                              | 92 kB 12.1 MB/s eta 0:00:01\r\u001b[K     |██                              | 102 kB 12.9 MB/s eta 0:00:01\r\u001b[K     |██▏                             | 112 kB 12.9 MB/s eta 0:00:01\r\u001b[K     |██▍                             | 122 kB 12.9 MB/s eta 0:00:01\r\u001b[K     |██▌                             | 133 kB 12.9 MB/s eta 0:00:01\r\u001b[K     |██▊                             | 143 kB 12.9 MB/s eta 0:00:01\r\u001b[K     |███                             | 153 kB 12.9 MB/s eta 0:00:01\r\u001b[K     |███▏                            | 163 kB 12.9 MB/s eta 0:00:01\r\u001b[K     |███▎                            | 174 kB 12.9 MB/s eta 0:00:01\r\u001b[K     |███▌                            | 184 kB 12.9 MB/s eta 0:00:01\r\u001b[K     |███▊                            | 194 kB 12.9 MB/s eta 0:00:01\r\u001b[K     |████                            | 204 kB 12.9 MB/s eta 0:00:01\r\u001b[K     |████                            | 215 kB 12.9 MB/s eta 0:00:01\r\u001b[K     |████▎                           | 225 kB 12.9 MB/s eta 0:00:01\r\u001b[K     |████▌                           | 235 kB 12.9 MB/s eta 0:00:01\r\u001b[K     |████▊                           | 245 kB 12.9 MB/s eta 0:00:01\r\u001b[K     |████▉                           | 256 kB 12.9 MB/s eta 0:00:01\r\u001b[K     |█████                           | 266 kB 12.9 MB/s eta 0:00:01\r\u001b[K     |█████▎                          | 276 kB 12.9 MB/s eta 0:00:01\r\u001b[K     |█████▌                          | 286 kB 12.9 MB/s eta 0:00:01\r\u001b[K     |█████▋                          | 296 kB 12.9 MB/s eta 0:00:01\r\u001b[K     |█████▉                          | 307 kB 12.9 MB/s eta 0:00:01\r\u001b[K     |██████                          | 317 kB 12.9 MB/s eta 0:00:01\r\u001b[K     |██████▎                         | 327 kB 12.9 MB/s eta 0:00:01\r\u001b[K     |██████▍                         | 337 kB 12.9 MB/s eta 0:00:01\r\u001b[K     |██████▋                         | 348 kB 12.9 MB/s eta 0:00:01\r\u001b[K     |██████▉                         | 358 kB 12.9 MB/s eta 0:00:01\r\u001b[K     |███████                         | 368 kB 12.9 MB/s eta 0:00:01\r\u001b[K     |███████▏                        | 378 kB 12.9 MB/s eta 0:00:01\r\u001b[K     |███████▍                        | 389 kB 12.9 MB/s eta 0:00:01\r\u001b[K     |███████▋                        | 399 kB 12.9 MB/s eta 0:00:01\r\u001b[K     |███████▉                        | 409 kB 12.9 MB/s eta 0:00:01\r\u001b[K     |████████                        | 419 kB 12.9 MB/s eta 0:00:01\r\u001b[K     |████████▏                       | 430 kB 12.9 MB/s eta 0:00:01\r\u001b[K     |████████▍                       | 440 kB 12.9 MB/s eta 0:00:01\r\u001b[K     |████████▋                       | 450 kB 12.9 MB/s eta 0:00:01\r\u001b[K     |████████▊                       | 460 kB 12.9 MB/s eta 0:00:01\r\u001b[K     |█████████                       | 471 kB 12.9 MB/s eta 0:00:01\r\u001b[K     |█████████▏                      | 481 kB 12.9 MB/s eta 0:00:01\r\u001b[K     |█████████▍                      | 491 kB 12.9 MB/s eta 0:00:01\r\u001b[K     |█████████▌                      | 501 kB 12.9 MB/s eta 0:00:01\r\u001b[K     |█████████▊                      | 512 kB 12.9 MB/s eta 0:00:01\r\u001b[K     |██████████                      | 522 kB 12.9 MB/s eta 0:00:01\r\u001b[K     |██████████▏                     | 532 kB 12.9 MB/s eta 0:00:01\r\u001b[K     |██████████▎                     | 542 kB 12.9 MB/s eta 0:00:01\r\u001b[K     |██████████▌                     | 552 kB 12.9 MB/s eta 0:00:01\r\u001b[K     |██████████▊                     | 563 kB 12.9 MB/s eta 0:00:01\r\u001b[K     |███████████                     | 573 kB 12.9 MB/s eta 0:00:01\r\u001b[K     |███████████                     | 583 kB 12.9 MB/s eta 0:00:01\r\u001b[K     |███████████▎                    | 593 kB 12.9 MB/s eta 0:00:01\r\u001b[K     |███████████▌                    | 604 kB 12.9 MB/s eta 0:00:01\r\u001b[K     |███████████▊                    | 614 kB 12.9 MB/s eta 0:00:01\r\u001b[K     |███████████▉                    | 624 kB 12.9 MB/s eta 0:00:01\r\u001b[K     |████████████                    | 634 kB 12.9 MB/s eta 0:00:01\r\u001b[K     |████████████▎                   | 645 kB 12.9 MB/s eta 0:00:01\r\u001b[K     |████████████▌                   | 655 kB 12.9 MB/s eta 0:00:01\r\u001b[K     |████████████▋                   | 665 kB 12.9 MB/s eta 0:00:01\r\u001b[K     |████████████▉                   | 675 kB 12.9 MB/s eta 0:00:01\r\u001b[K     |█████████████                   | 686 kB 12.9 MB/s eta 0:00:01\r\u001b[K     |█████████████▎                  | 696 kB 12.9 MB/s eta 0:00:01\r\u001b[K     |█████████████▍                  | 706 kB 12.9 MB/s eta 0:00:01\r\u001b[K     |█████████████▋                  | 716 kB 12.9 MB/s eta 0:00:01\r\u001b[K     |█████████████▉                  | 727 kB 12.9 MB/s eta 0:00:01\r\u001b[K     |██████████████                  | 737 kB 12.9 MB/s eta 0:00:01\r\u001b[K     |██████████████▏                 | 747 kB 12.9 MB/s eta 0:00:01\r\u001b[K     |██████████████▍                 | 757 kB 12.9 MB/s eta 0:00:01\r\u001b[K     |██████████████▋                 | 768 kB 12.9 MB/s eta 0:00:01\r\u001b[K     |██████████████▉                 | 778 kB 12.9 MB/s eta 0:00:01\r\u001b[K     |███████████████                 | 788 kB 12.9 MB/s eta 0:00:01\r\u001b[K     |███████████████▏                | 798 kB 12.9 MB/s eta 0:00:01\r\u001b[K     |███████████████▍                | 808 kB 12.9 MB/s eta 0:00:01\r\u001b[K     |███████████████▋                | 819 kB 12.9 MB/s eta 0:00:01\r\u001b[K     |███████████████▊                | 829 kB 12.9 MB/s eta 0:00:01\r\u001b[K     |████████████████                | 839 kB 12.9 MB/s eta 0:00:01\r\u001b[K     |████████████████▏               | 849 kB 12.9 MB/s eta 0:00:01\r\u001b[K     |████████████████▍               | 860 kB 12.9 MB/s eta 0:00:01\r\u001b[K     |████████████████▌               | 870 kB 12.9 MB/s eta 0:00:01\r\u001b[K     |████████████████▊               | 880 kB 12.9 MB/s eta 0:00:01\r\u001b[K     |█████████████████               | 890 kB 12.9 MB/s eta 0:00:01\r\u001b[K     |█████████████████▏              | 901 kB 12.9 MB/s eta 0:00:01\r\u001b[K     |█████████████████▍              | 911 kB 12.9 MB/s eta 0:00:01\r\u001b[K     |█████████████████▌              | 921 kB 12.9 MB/s eta 0:00:01\r\u001b[K     |█████████████████▊              | 931 kB 12.9 MB/s eta 0:00:01\r\u001b[K     |██████████████████              | 942 kB 12.9 MB/s eta 0:00:01\r\u001b[K     |██████████████████▏             | 952 kB 12.9 MB/s eta 0:00:01\r\u001b[K     |██████████████████▎             | 962 kB 12.9 MB/s eta 0:00:01\r\u001b[K     |██████████████████▌             | 972 kB 12.9 MB/s eta 0:00:01\r\u001b[K     |██████████████████▊             | 983 kB 12.9 MB/s eta 0:00:01\r\u001b[K     |███████████████████             | 993 kB 12.9 MB/s eta 0:00:01\r\u001b[K     |███████████████████             | 1.0 MB 12.9 MB/s eta 0:00:01\r\u001b[K     |███████████████████▎            | 1.0 MB 12.9 MB/s eta 0:00:01\r\u001b[K     |███████████████████▌            | 1.0 MB 12.9 MB/s eta 0:00:01\r\u001b[K     |███████████████████▊            | 1.0 MB 12.9 MB/s eta 0:00:01\r\u001b[K     |███████████████████▉            | 1.0 MB 12.9 MB/s eta 0:00:01\r\u001b[K     |████████████████████            | 1.1 MB 12.9 MB/s eta 0:00:01\r\u001b[K     |████████████████████▎           | 1.1 MB 12.9 MB/s eta 0:00:01\r\u001b[K     |████████████████████▌           | 1.1 MB 12.9 MB/s eta 0:00:01\r\u001b[K     |████████████████████▋           | 1.1 MB 12.9 MB/s eta 0:00:01\r\u001b[K     |████████████████████▉           | 1.1 MB 12.9 MB/s eta 0:00:01\r\u001b[K     |█████████████████████           | 1.1 MB 12.9 MB/s eta 0:00:01\r\u001b[K     |█████████████████████▎          | 1.1 MB 12.9 MB/s eta 0:00:01\r\u001b[K     |█████████████████████▍          | 1.1 MB 12.9 MB/s eta 0:00:01\r\u001b[K     |█████████████████████▋          | 1.1 MB 12.9 MB/s eta 0:00:01\r\u001b[K     |█████████████████████▉          | 1.1 MB 12.9 MB/s eta 0:00:01\r\u001b[K     |██████████████████████          | 1.2 MB 12.9 MB/s eta 0:00:01\r\u001b[K     |██████████████████████▏         | 1.2 MB 12.9 MB/s eta 0:00:01\r\u001b[K     |██████████████████████▍         | 1.2 MB 12.9 MB/s eta 0:00:01\r\u001b[K     |██████████████████████▋         | 1.2 MB 12.9 MB/s eta 0:00:01\r\u001b[K     |██████████████████████▉         | 1.2 MB 12.9 MB/s eta 0:00:01\r\u001b[K     |███████████████████████         | 1.2 MB 12.9 MB/s eta 0:00:01\r\u001b[K     |███████████████████████▏        | 1.2 MB 12.9 MB/s eta 0:00:01\r\u001b[K     |███████████████████████▍        | 1.2 MB 12.9 MB/s eta 0:00:01\r\u001b[K     |███████████████████████▋        | 1.2 MB 12.9 MB/s eta 0:00:01\r\u001b[K     |███████████████████████▊        | 1.2 MB 12.9 MB/s eta 0:00:01\r\u001b[K     |████████████████████████        | 1.3 MB 12.9 MB/s eta 0:00:01\r\u001b[K     |████████████████████████▏       | 1.3 MB 12.9 MB/s eta 0:00:01\r\u001b[K     |████████████████████████▍       | 1.3 MB 12.9 MB/s eta 0:00:01\r\u001b[K     |████████████████████████▌       | 1.3 MB 12.9 MB/s eta 0:00:01\r\u001b[K     |████████████████████████▊       | 1.3 MB 12.9 MB/s eta 0:00:01\r\u001b[K     |█████████████████████████       | 1.3 MB 12.9 MB/s eta 0:00:01\r\u001b[K     |█████████████████████████▏      | 1.3 MB 12.9 MB/s eta 0:00:01\r\u001b[K     |█████████████████████████▎      | 1.3 MB 12.9 MB/s eta 0:00:01\r\u001b[K     |█████████████████████████▌      | 1.3 MB 12.9 MB/s eta 0:00:01\r\u001b[K     |█████████████████████████▊      | 1.4 MB 12.9 MB/s eta 0:00:01\r\u001b[K     |██████████████████████████      | 1.4 MB 12.9 MB/s eta 0:00:01\r\u001b[K     |██████████████████████████      | 1.4 MB 12.9 MB/s eta 0:00:01\r\u001b[K     |██████████████████████████▎     | 1.4 MB 12.9 MB/s eta 0:00:01\r\u001b[K     |██████████████████████████▌     | 1.4 MB 12.9 MB/s eta 0:00:01\r\u001b[K     |██████████████████████████▊     | 1.4 MB 12.9 MB/s eta 0:00:01\r\u001b[K     |██████████████████████████▉     | 1.4 MB 12.9 MB/s eta 0:00:01\r\u001b[K     |███████████████████████████     | 1.4 MB 12.9 MB/s eta 0:00:01\r\u001b[K     |███████████████████████████▎    | 1.4 MB 12.9 MB/s eta 0:00:01\r\u001b[K     |███████████████████████████▌    | 1.4 MB 12.9 MB/s eta 0:00:01\r\u001b[K     |███████████████████████████▋    | 1.5 MB 12.9 MB/s eta 0:00:01\r\u001b[K     |███████████████████████████▉    | 1.5 MB 12.9 MB/s eta 0:00:01\r\u001b[K     |████████████████████████████    | 1.5 MB 12.9 MB/s eta 0:00:01\r\u001b[K     |████████████████████████████▎   | 1.5 MB 12.9 MB/s eta 0:00:01\r\u001b[K     |████████████████████████████▍   | 1.5 MB 12.9 MB/s eta 0:00:01\r\u001b[K     |████████████████████████████▋   | 1.5 MB 12.9 MB/s eta 0:00:01\r\u001b[K     |████████████████████████████▉   | 1.5 MB 12.9 MB/s eta 0:00:01\r\u001b[K     |█████████████████████████████   | 1.5 MB 12.9 MB/s eta 0:00:01\r\u001b[K     |█████████████████████████████▏  | 1.5 MB 12.9 MB/s eta 0:00:01\r\u001b[K     |█████████████████████████████▍  | 1.5 MB 12.9 MB/s eta 0:00:01\r\u001b[K     |█████████████████████████████▋  | 1.6 MB 12.9 MB/s eta 0:00:01\r\u001b[K     |█████████████████████████████▉  | 1.6 MB 12.9 MB/s eta 0:00:01\r\u001b[K     |██████████████████████████████  | 1.6 MB 12.9 MB/s eta 0:00:01\r\u001b[K     |██████████████████████████████▏ | 1.6 MB 12.9 MB/s eta 0:00:01\r\u001b[K     |██████████████████████████████▍ | 1.6 MB 12.9 MB/s eta 0:00:01\r\u001b[K     |██████████████████████████████▋ | 1.6 MB 12.9 MB/s eta 0:00:01\r\u001b[K     |██████████████████████████████▊ | 1.6 MB 12.9 MB/s eta 0:00:01\r\u001b[K     |███████████████████████████████ | 1.6 MB 12.9 MB/s eta 0:00:01\r\u001b[K     |███████████████████████████████▏| 1.6 MB 12.9 MB/s eta 0:00:01\r\u001b[K     |███████████████████████████████▍| 1.6 MB 12.9 MB/s eta 0:00:01\r\u001b[K     |███████████████████████████████▌| 1.7 MB 12.9 MB/s eta 0:00:01\r\u001b[K     |███████████████████████████████▊| 1.7 MB 12.9 MB/s eta 0:00:01\r\u001b[K     |████████████████████████████████| 1.7 MB 12.9 MB/s eta 0:00:01\r\u001b[K     |████████████████████████████████| 1.7 MB 12.9 MB/s \n",
            "\u001b[?25h  Installing build dependencies ... \u001b[?25l\u001b[?25hdone\n",
            "  Getting requirements to build wheel ... \u001b[?25l\u001b[?25hdone\n",
            "    Preparing wheel metadata ... \u001b[?25l\u001b[?25hdone\n",
            "Requirement already satisfied: appdirs>=1.4.0 in /usr/local/lib/python3.7/dist-packages (from pycuda) (1.4.4)\n",
            "Collecting mako\n",
            "  Downloading Mako-1.1.5-py2.py3-none-any.whl (75 kB)\n",
            "\u001b[K     |████████████████████████████████| 75 kB 4.5 MB/s \n",
            "\u001b[?25hCollecting pytools>=2011.2\n",
            "  Downloading pytools-2021.2.8.tar.gz (63 kB)\n",
            "\u001b[K     |████████████████████████████████| 63 kB 2.1 MB/s \n",
            "\u001b[?25hRequirement already satisfied: numpy>=1.6.0 in /usr/local/lib/python3.7/dist-packages (from pytools>=2011.2->pycuda) (1.19.5)\n",
            "Requirement already satisfied: MarkupSafe>=0.9.2 in /usr/local/lib/python3.7/dist-packages (from mako->pycuda) (2.0.1)\n",
            "Building wheels for collected packages: pycuda, pytools\n",
            "  Building wheel for pycuda (PEP 517) ... \u001b[?25l\u001b[?25hdone\n",
            "  Created wheel for pycuda: filename=pycuda-2021.1-cp37-cp37m-linux_x86_64.whl size=627882 sha256=c239ca045d0f2dab6eb038e735c0736f2f94cb1be75fd5fc77e2d585efaf2e8b\n",
            "  Stored in directory: /root/.cache/pip/wheels/c4/ef/49/dc6a5feb8d980b37c83d465ecab24949a6aa19458522a9e001\n",
            "  Building wheel for pytools (setup.py) ... \u001b[?25l\u001b[?25hdone\n",
            "  Created wheel for pytools: filename=pytools-2021.2.8-py2.py3-none-any.whl size=60725 sha256=b862a7beb4ea4c7f9ab9b18ae08e8e6e3ed106fb0e842f0f81b353604a9d9b8f\n",
            "  Stored in directory: /root/.cache/pip/wheels/bd/2d/ef/0127a17bafa44971f11d05d0e38d7947144cf9e33313bf12a7\n",
            "Successfully built pycuda pytools\n",
            "Installing collected packages: pytools, mako, pycuda\n",
            "Successfully installed mako-1.1.5 pycuda-2021.1 pytools-2021.2.8\n"
          ]
        }
      ]
    },
    {
      "cell_type": "code",
      "metadata": {
        "colab": {
          "base_uri": "https://localhost:8080/",
          "height": 35
        },
        "id": "VMBKiaoHTvoT",
        "outputId": "02681517-1a3e-43f7-b72b-52e80c0d172f"
      },
      "source": [
        "import pycuda.autoinit\n",
        "from pycuda.tools import make_default_context\n",
        "make_default_context().get_device().name()"
      ],
      "execution_count": 3,
      "outputs": [
        {
          "output_type": "execute_result",
          "data": {
            "application/vnd.google.colaboratory.intrinsic+json": {
              "type": "string"
            },
            "text/plain": [
              "'Tesla K80'"
            ]
          },
          "metadata": {},
          "execution_count": 3
        }
      ]
    },
    {
      "cell_type": "code",
      "metadata": {
        "colab": {
          "base_uri": "https://localhost:8080/"
        },
        "id": "jzP7FE2EUwCS",
        "outputId": "d0464066-fd07-4c10-f7b4-f39eabef8890"
      },
      "source": [
        "import numpy as np\n",
        "from numpy import linalg as la\n",
        "from pycuda import driver, compiler, gpuarray, tools\n",
        "from time import time\n",
        "\n",
        "for i in range(0, 5):\n",
        "  \n",
        "  MATRIX_SIZE = 128*2**i\n",
        "  print(\"Размер матрицы: \", MATRIX_SIZE, \"x\", MATRIX_SIZE)\n",
        "\n",
        "  def matmul(a_gpu,b_gpu,MATRIX_SIZE=MATRIX_SIZE):\n",
        "    kernel_code_template = \"\"\"\n",
        "    __global__ void MatrixMulKernel(float *A, float *B, float *C)\n",
        "    {\n",
        "\n",
        "      const uint wA = %(MATRIX_SIZE)s;\n",
        "      const uint wB = %(MATRIX_SIZE)s;\n",
        "\n",
        "      const uint bx = blockIdx.x;\n",
        "      const uint by = blockIdx.y;\n",
        "\n",
        "      const uint tx = threadIdx.x;\n",
        "      const uint ty = threadIdx.y;\n",
        "\n",
        "      const uint aBegin = wA * %(BLOCK_SIZE)s * by;\n",
        "      const uint aEnd = aBegin + wA - 1;\n",
        "      const uint aStep = %(BLOCK_SIZE)s;\n",
        "\n",
        "      const uint bBegin = %(BLOCK_SIZE)s * bx;\n",
        "      const uint bStep = %(BLOCK_SIZE)s * wB;\n",
        "\n",
        "      float Csub = 0;\n",
        "      for (int a = aBegin, b = bBegin;\n",
        "           a <= aEnd;\n",
        "           a += aStep, b += bStep)\n",
        "        {\n",
        "          __shared__ float As[%(BLOCK_SIZE)s][%(BLOCK_SIZE)s];\n",
        "          __shared__ float Bs[%(BLOCK_SIZE)s][%(BLOCK_SIZE)s];\n",
        "\n",
        "          As[ty][tx] = A[a + wA * ty + tx];\n",
        "          Bs[ty][tx] = B[b + wB * ty + tx];\n",
        "\n",
        "          __syncthreads();\n",
        "\n",
        "          for (int k = 0; k < %(BLOCK_SIZE)s; ++k)\n",
        "            Csub += As[ty][k] * Bs[k][tx];\n",
        "\n",
        "          __syncthreads();\n",
        "        }\n",
        "\n",
        "      const uint c = wB * %(BLOCK_SIZE)s * by + %(BLOCK_SIZE)s * bx;\n",
        "      C[c + wB * ty + tx] = Csub;\n",
        "\n",
        "    }\n",
        "    \"\"\"\n",
        "\n",
        "    TILE_SIZE = 32\n",
        "    BLOCK_SIZE = TILE_SIZE\n",
        "\n",
        "    kernel_code = kernel_code_template % {\n",
        "        'MATRIX_SIZE': MATRIX_SIZE,\n",
        "        'BLOCK_SIZE': BLOCK_SIZE,\n",
        "        }\n",
        "\n",
        "    mod = compiler.SourceModule(kernel_code)\n",
        "    c_gpu = gpuarray.empty((MATRIX_SIZE, MATRIX_SIZE), np.float32)\n",
        "\n",
        "    matrixmul = mod.get_function(\"MatrixMulKernel\")\n",
        "\n",
        "    matrixmul(\n",
        "        a_gpu, b_gpu,\n",
        "        c_gpu,\n",
        "        grid = (MATRIX_SIZE // TILE_SIZE, MATRIX_SIZE // TILE_SIZE),\n",
        "        block = (TILE_SIZE, TILE_SIZE, 1),\n",
        "        )\n",
        "\n",
        "    return c_gpu\n",
        "\n",
        "  a_cpu = np.random.randn(MATRIX_SIZE, MATRIX_SIZE).astype(np.float32)\n",
        "  b_cpu = np.random.randn(MATRIX_SIZE, MATRIX_SIZE).astype(np.float32)\n",
        "\n",
        "  st = time()\n",
        "  c_cpu = np.dot(a_cpu, b_cpu)\n",
        "  cpu_time = time() - st\n",
        "\n",
        "  st = time()\n",
        "  a_gpu = gpuarray.to_gpu(a_cpu)\n",
        "  b_gpu = gpuarray.to_gpu(b_cpu)\n",
        "  c_gpu = matmul(a_gpu,b_gpu).get()\n",
        "  gpu_time = time() - st\n",
        "\n",
        "  print(\"Время выполнения перемножения на CPU: {:.6f}\".format(cpu_time))\n",
        "  print(\"Время выполнения перемножения на GPU: {:.6f}\".format(gpu_time))\n",
        "  print(\"Ускорение: {:.3f}\".format(cpu_time/gpu_time)) \n",
        "  print(\"Корректность вычислений: {:.6f}\".format(np.max(c_cpu - c_gpu)))\n",
        "  print()\n",
        "  print(\"-\" * 50)"
      ],
      "execution_count": 10,
      "outputs": [
        {
          "output_type": "stream",
          "name": "stdout",
          "text": [
            "Размер матрицы:  128 x 128\n",
            "Время выполнения перемножения на CPU: 0.000955\n",
            "Время выполнения перемножения на GPU: 0.009115\n",
            "Ускорение: 0.105\n",
            "Корректность вычислений: 0.000013\n",
            "\n",
            "--------------------------------------------------\n",
            "Размер матрицы:  256 x 256\n",
            "Время выполнения перемножения на CPU: 0.000763\n",
            "Время выполнения перемножения на GPU: 0.002154\n",
            "Ускорение: 0.354\n",
            "Корректность вычислений: 0.000031\n",
            "\n",
            "--------------------------------------------------\n",
            "Размер матрицы:  512 x 512\n",
            "Время выполнения перемножения на CPU: 0.004732\n",
            "Время выполнения перемножения на GPU: 0.005198\n",
            "Ускорение: 0.910\n",
            "Корректность вычислений: 0.000076\n",
            "\n",
            "--------------------------------------------------\n",
            "Размер матрицы:  1024 x 1024\n",
            "Время выполнения перемножения на CPU: 0.060270\n",
            "Время выполнения перемножения на GPU: 0.015806\n",
            "Ускорение: 3.813\n",
            "Корректность вычислений: 0.000198\n",
            "\n",
            "--------------------------------------------------\n",
            "Размер матрицы:  2048 x 2048\n",
            "Время выполнения перемножения на CPU: 0.251441\n",
            "Время выполнения перемножения на GPU: 0.086593\n",
            "Ускорение: 2.904\n",
            "Корректность вычислений: 0.000458\n",
            "\n",
            "--------------------------------------------------\n"
          ]
        }
      ]
    }
  ]
}